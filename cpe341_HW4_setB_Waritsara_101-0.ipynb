{
 "cells": [
  {
   "cell_type": "markdown",
   "metadata": {},
   "source": [
    "# CPE-341, Quiz 2/2015 \n",
    "# Question Set B\n",
    "\n",
    "- Iteration Design Pattern : List, Dictionary\n",
    "- Using Class Coin in a List"
   ]
  },
  {
   "cell_type": "code",
   "execution_count": 1,
   "metadata": {
    "collapsed": false
   },
   "outputs": [
    {
     "ename": "ImportError",
     "evalue": "No module named 'load_style'",
     "output_type": "error",
     "traceback": [
      "\u001b[1;31m---------------------------------------------------------------------------\u001b[0m",
      "\u001b[1;31mImportError\u001b[0m                               Traceback (most recent call last)",
      "\u001b[1;32m<ipython-input-1-78e4da72be5d>\u001b[0m in \u001b[0;36m<module>\u001b[1;34m()\u001b[0m\n\u001b[1;32m----> 1\u001b[1;33m \u001b[0mget_ipython\u001b[0m\u001b[1;33m(\u001b[0m\u001b[1;33m)\u001b[0m\u001b[1;33m.\u001b[0m\u001b[0mmagic\u001b[0m\u001b[1;33m(\u001b[0m\u001b[1;34m'reload_ext load_style'\u001b[0m\u001b[1;33m)\u001b[0m\u001b[1;33m\u001b[0m\u001b[0m\n\u001b[0m\u001b[0;32m      2\u001b[0m \u001b[0mget_ipython\u001b[0m\u001b[1;33m(\u001b[0m\u001b[1;33m)\u001b[0m\u001b[1;33m.\u001b[0m\u001b[0mmagic\u001b[0m\u001b[1;33m(\u001b[0m\u001b[1;34m'load_style talk.css'\u001b[0m\u001b[1;33m)\u001b[0m\u001b[1;33m\u001b[0m\u001b[0m\n",
      "\u001b[1;32m/home/ubuntu/miniconda3/envs/py34/lib/python3.4/site-packages/IPython/core/interactiveshell.py\u001b[0m in \u001b[0;36mmagic\u001b[1;34m(self, arg_s)\u001b[0m\n\u001b[0;32m   2161\u001b[0m         \u001b[0mmagic_name\u001b[0m\u001b[1;33m,\u001b[0m \u001b[0m_\u001b[0m\u001b[1;33m,\u001b[0m \u001b[0mmagic_arg_s\u001b[0m \u001b[1;33m=\u001b[0m \u001b[0marg_s\u001b[0m\u001b[1;33m.\u001b[0m\u001b[0mpartition\u001b[0m\u001b[1;33m(\u001b[0m\u001b[1;34m' '\u001b[0m\u001b[1;33m)\u001b[0m\u001b[1;33m\u001b[0m\u001b[0m\n\u001b[0;32m   2162\u001b[0m         \u001b[0mmagic_name\u001b[0m \u001b[1;33m=\u001b[0m \u001b[0mmagic_name\u001b[0m\u001b[1;33m.\u001b[0m\u001b[0mlstrip\u001b[0m\u001b[1;33m(\u001b[0m\u001b[0mprefilter\u001b[0m\u001b[1;33m.\u001b[0m\u001b[0mESC_MAGIC\u001b[0m\u001b[1;33m)\u001b[0m\u001b[1;33m\u001b[0m\u001b[0m\n\u001b[1;32m-> 2163\u001b[1;33m         \u001b[1;32mreturn\u001b[0m \u001b[0mself\u001b[0m\u001b[1;33m.\u001b[0m\u001b[0mrun_line_magic\u001b[0m\u001b[1;33m(\u001b[0m\u001b[0mmagic_name\u001b[0m\u001b[1;33m,\u001b[0m \u001b[0mmagic_arg_s\u001b[0m\u001b[1;33m)\u001b[0m\u001b[1;33m\u001b[0m\u001b[0m\n\u001b[0m\u001b[0;32m   2164\u001b[0m \u001b[1;33m\u001b[0m\u001b[0m\n\u001b[0;32m   2165\u001b[0m     \u001b[1;31m#-------------------------------------------------------------------------\u001b[0m\u001b[1;33m\u001b[0m\u001b[1;33m\u001b[0m\u001b[0m\n",
      "\u001b[1;32m/home/ubuntu/miniconda3/envs/py34/lib/python3.4/site-packages/IPython/core/interactiveshell.py\u001b[0m in \u001b[0;36mrun_line_magic\u001b[1;34m(self, magic_name, line)\u001b[0m\n\u001b[0;32m   2082\u001b[0m                 \u001b[0mkwargs\u001b[0m\u001b[1;33m[\u001b[0m\u001b[1;34m'local_ns'\u001b[0m\u001b[1;33m]\u001b[0m \u001b[1;33m=\u001b[0m \u001b[0msys\u001b[0m\u001b[1;33m.\u001b[0m\u001b[0m_getframe\u001b[0m\u001b[1;33m(\u001b[0m\u001b[0mstack_depth\u001b[0m\u001b[1;33m)\u001b[0m\u001b[1;33m.\u001b[0m\u001b[0mf_locals\u001b[0m\u001b[1;33m\u001b[0m\u001b[0m\n\u001b[0;32m   2083\u001b[0m             \u001b[1;32mwith\u001b[0m \u001b[0mself\u001b[0m\u001b[1;33m.\u001b[0m\u001b[0mbuiltin_trap\u001b[0m\u001b[1;33m:\u001b[0m\u001b[1;33m\u001b[0m\u001b[0m\n\u001b[1;32m-> 2084\u001b[1;33m                 \u001b[0mresult\u001b[0m \u001b[1;33m=\u001b[0m \u001b[0mfn\u001b[0m\u001b[1;33m(\u001b[0m\u001b[1;33m*\u001b[0m\u001b[0margs\u001b[0m\u001b[1;33m,\u001b[0m\u001b[1;33m**\u001b[0m\u001b[0mkwargs\u001b[0m\u001b[1;33m)\u001b[0m\u001b[1;33m\u001b[0m\u001b[0m\n\u001b[0m\u001b[0;32m   2085\u001b[0m             \u001b[1;32mreturn\u001b[0m \u001b[0mresult\u001b[0m\u001b[1;33m\u001b[0m\u001b[0m\n\u001b[0;32m   2086\u001b[0m \u001b[1;33m\u001b[0m\u001b[0m\n",
      "\u001b[1;32m<decorator-gen-66>\u001b[0m in \u001b[0;36mreload_ext\u001b[1;34m(self, module_str)\u001b[0m\n",
      "\u001b[1;32m/home/ubuntu/miniconda3/envs/py34/lib/python3.4/site-packages/IPython/core/magic.py\u001b[0m in \u001b[0;36m<lambda>\u001b[1;34m(f, *a, **k)\u001b[0m\n\u001b[0;32m    191\u001b[0m     \u001b[1;31m# but it's overkill for just that one bit of state.\u001b[0m\u001b[1;33m\u001b[0m\u001b[1;33m\u001b[0m\u001b[0m\n\u001b[0;32m    192\u001b[0m     \u001b[1;32mdef\u001b[0m \u001b[0mmagic_deco\u001b[0m\u001b[1;33m(\u001b[0m\u001b[0marg\u001b[0m\u001b[1;33m)\u001b[0m\u001b[1;33m:\u001b[0m\u001b[1;33m\u001b[0m\u001b[0m\n\u001b[1;32m--> 193\u001b[1;33m         \u001b[0mcall\u001b[0m \u001b[1;33m=\u001b[0m \u001b[1;32mlambda\u001b[0m \u001b[0mf\u001b[0m\u001b[1;33m,\u001b[0m \u001b[1;33m*\u001b[0m\u001b[0ma\u001b[0m\u001b[1;33m,\u001b[0m \u001b[1;33m**\u001b[0m\u001b[0mk\u001b[0m\u001b[1;33m:\u001b[0m \u001b[0mf\u001b[0m\u001b[1;33m(\u001b[0m\u001b[1;33m*\u001b[0m\u001b[0ma\u001b[0m\u001b[1;33m,\u001b[0m \u001b[1;33m**\u001b[0m\u001b[0mk\u001b[0m\u001b[1;33m)\u001b[0m\u001b[1;33m\u001b[0m\u001b[0m\n\u001b[0m\u001b[0;32m    194\u001b[0m \u001b[1;33m\u001b[0m\u001b[0m\n\u001b[0;32m    195\u001b[0m         \u001b[1;32mif\u001b[0m \u001b[0mcallable\u001b[0m\u001b[1;33m(\u001b[0m\u001b[0marg\u001b[0m\u001b[1;33m)\u001b[0m\u001b[1;33m:\u001b[0m\u001b[1;33m\u001b[0m\u001b[0m\n",
      "\u001b[1;32m/home/ubuntu/miniconda3/envs/py34/lib/python3.4/site-packages/IPython/core/magics/extension.py\u001b[0m in \u001b[0;36mreload_ext\u001b[1;34m(self, module_str)\u001b[0m\n\u001b[0;32m     94\u001b[0m         \u001b[1;32mif\u001b[0m \u001b[1;32mnot\u001b[0m \u001b[0mmodule_str\u001b[0m\u001b[1;33m:\u001b[0m\u001b[1;33m\u001b[0m\u001b[0m\n\u001b[0;32m     95\u001b[0m             \u001b[1;32mraise\u001b[0m \u001b[0mUsageError\u001b[0m\u001b[1;33m(\u001b[0m\u001b[1;34m'Missing module name.'\u001b[0m\u001b[1;33m)\u001b[0m\u001b[1;33m\u001b[0m\u001b[0m\n\u001b[1;32m---> 96\u001b[1;33m         \u001b[0mself\u001b[0m\u001b[1;33m.\u001b[0m\u001b[0mshell\u001b[0m\u001b[1;33m.\u001b[0m\u001b[0mextension_manager\u001b[0m\u001b[1;33m.\u001b[0m\u001b[0mreload_extension\u001b[0m\u001b[1;33m(\u001b[0m\u001b[0mmodule_str\u001b[0m\u001b[1;33m)\u001b[0m\u001b[1;33m\u001b[0m\u001b[0m\n\u001b[0m",
      "\u001b[1;32m/home/ubuntu/miniconda3/envs/py34/lib/python3.4/site-packages/IPython/core/extensions.py\u001b[0m in \u001b[0;36mreload_extension\u001b[1;34m(self, module_str)\u001b[0m\n\u001b[0;32m    127\u001b[0m                 \u001b[0mself\u001b[0m\u001b[1;33m.\u001b[0m\u001b[0mloaded\u001b[0m\u001b[1;33m.\u001b[0m\u001b[0madd\u001b[0m\u001b[1;33m(\u001b[0m\u001b[0mmodule_str\u001b[0m\u001b[1;33m)\u001b[0m\u001b[1;33m\u001b[0m\u001b[0m\n\u001b[0;32m    128\u001b[0m         \u001b[1;32melse\u001b[0m\u001b[1;33m:\u001b[0m\u001b[1;33m\u001b[0m\u001b[0m\n\u001b[1;32m--> 129\u001b[1;33m             \u001b[0mself\u001b[0m\u001b[1;33m.\u001b[0m\u001b[0mload_extension\u001b[0m\u001b[1;33m(\u001b[0m\u001b[0mmodule_str\u001b[0m\u001b[1;33m)\u001b[0m\u001b[1;33m\u001b[0m\u001b[0m\n\u001b[0m\u001b[0;32m    130\u001b[0m \u001b[1;33m\u001b[0m\u001b[0m\n\u001b[0;32m    131\u001b[0m     \u001b[1;32mdef\u001b[0m \u001b[0m_call_load_ipython_extension\u001b[0m\u001b[1;33m(\u001b[0m\u001b[0mself\u001b[0m\u001b[1;33m,\u001b[0m \u001b[0mmod\u001b[0m\u001b[1;33m)\u001b[0m\u001b[1;33m:\u001b[0m\u001b[1;33m\u001b[0m\u001b[0m\n",
      "\u001b[1;32m/home/ubuntu/miniconda3/envs/py34/lib/python3.4/site-packages/IPython/core/extensions.py\u001b[0m in \u001b[0;36mload_extension\u001b[1;34m(self, module_str)\u001b[0m\n\u001b[0;32m     82\u001b[0m             \u001b[1;32mif\u001b[0m \u001b[0mmodule_str\u001b[0m \u001b[1;32mnot\u001b[0m \u001b[1;32min\u001b[0m \u001b[0msys\u001b[0m\u001b[1;33m.\u001b[0m\u001b[0mmodules\u001b[0m\u001b[1;33m:\u001b[0m\u001b[1;33m\u001b[0m\u001b[0m\n\u001b[0;32m     83\u001b[0m                 \u001b[1;32mwith\u001b[0m \u001b[0mprepended_to_syspath\u001b[0m\u001b[1;33m(\u001b[0m\u001b[0mself\u001b[0m\u001b[1;33m.\u001b[0m\u001b[0mipython_extension_dir\u001b[0m\u001b[1;33m)\u001b[0m\u001b[1;33m:\u001b[0m\u001b[1;33m\u001b[0m\u001b[0m\n\u001b[1;32m---> 84\u001b[1;33m                     \u001b[0m__import__\u001b[0m\u001b[1;33m(\u001b[0m\u001b[0mmodule_str\u001b[0m\u001b[1;33m)\u001b[0m\u001b[1;33m\u001b[0m\u001b[0m\n\u001b[0m\u001b[0;32m     85\u001b[0m             \u001b[0mmod\u001b[0m \u001b[1;33m=\u001b[0m \u001b[0msys\u001b[0m\u001b[1;33m.\u001b[0m\u001b[0mmodules\u001b[0m\u001b[1;33m[\u001b[0m\u001b[0mmodule_str\u001b[0m\u001b[1;33m]\u001b[0m\u001b[1;33m\u001b[0m\u001b[0m\n\u001b[0;32m     86\u001b[0m             \u001b[1;32mif\u001b[0m \u001b[0mself\u001b[0m\u001b[1;33m.\u001b[0m\u001b[0m_call_load_ipython_extension\u001b[0m\u001b[1;33m(\u001b[0m\u001b[0mmod\u001b[0m\u001b[1;33m)\u001b[0m\u001b[1;33m:\u001b[0m\u001b[1;33m\u001b[0m\u001b[0m\n",
      "\u001b[1;31mImportError\u001b[0m: No module named 'load_style'"
     ]
    }
   ],
   "source": [
    "%reload_ext load_style\n",
    "%load_style talk.css"
   ]
  },
  {
   "cell_type": "code",
   "execution_count": 2,
   "metadata": {
    "collapsed": false
   },
   "outputs": [
    {
     "data": {
      "text/plain": [
       "'2017-02-24T06:37:37.002102'"
      ]
     },
     "execution_count": 2,
     "metadata": {},
     "output_type": "execute_result"
    }
   ],
   "source": [
    "## 57113101-0 :\n",
    "## waritsara yoodee\n",
    "##\n",
    "## คลิก Run cell นี้เพียงครั้งเดียว\n",
    "##\n",
    "##\n",
    "import datetime\n",
    "datetime.datetime.now().isoformat()"
   ]
  },
  {
   "cell_type": "markdown",
   "metadata": {},
   "source": [
    "## Question 1 ( @2 pt x 2 = 4 pts )\n",
    "\n",
    "### Q1.a \n",
    "จงเขียนคำสั่ง เพื่อพิมพ์ค่าตัวเลขที่ index ที่ 4 จาก list `mycoins` ต่อไปนี้ "
   ]
  },
  {
   "cell_type": "code",
   "execution_count": 3,
   "metadata": {
    "collapsed": true
   },
   "outputs": [],
   "source": [
    "## ไม่แก้ไขข้อมูลใน cell นี้\n",
    "\n",
    "mycoins = [12, 4, 10, 1, 6, 8]"
   ]
  },
  {
   "cell_type": "code",
   "execution_count": 4,
   "metadata": {
    "collapsed": false
   },
   "outputs": [
    {
     "name": "stdout",
     "output_type": "stream",
     "text": [
      "1\n"
     ]
    }
   ],
   "source": [
    "print(mycoins[3]);\n",
    "\n"
   ]
  },
  {
   "cell_type": "markdown",
   "metadata": {},
   "source": [
    "### Q1.b \n",
    "จงเขียนคำสั่ง เพื่อพิมพ์ตัวเลขที่มีค่ามากกว่า 5 จาก **list** ในข้อ (1.a)"
   ]
  },
  {
   "cell_type": "code",
   "execution_count": 5,
   "metadata": {
    "collapsed": false
   },
   "outputs": [
    {
     "name": "stdout",
     "output_type": "stream",
     "text": [
      "12\n",
      "10\n",
      "6\n"
     ]
    }
   ],
   "source": [
    "for i in range(0,6):\n",
    "    if(mycoins[i]>5):\n",
    "        print(mycoins[i]);\n",
    "\n"
   ]
  },
  {
   "cell_type": "code",
   "execution_count": null,
   "metadata": {
    "collapsed": true
   },
   "outputs": [],
   "source": []
  },
  {
   "cell_type": "markdown",
   "metadata": {},
   "source": [
    "## Question 2 ( @3 pts x 4 = 12 pts )\n",
    "\n",
    "### Q2.a \n",
    "จงสร้าง **list** เพื่อเก็บข้อมูลตัวเลขคู่ 100 - 200  โดยใข้ `range`"
   ]
  },
  {
   "cell_type": "code",
   "execution_count": 7,
   "metadata": {
    "collapsed": false
   },
   "outputs": [],
   "source": [
    "listnum = []\n",
    "for n in range (100,200):\n",
    "    if((n%2)==0):\n",
    "        listnum.append(n)"
   ]
  },
  {
   "cell_type": "code",
   "execution_count": null,
   "metadata": {
    "collapsed": true
   },
   "outputs": [],
   "source": []
  },
  {
   "cell_type": "markdown",
   "metadata": {},
   "source": [
    "### Q2.b \n",
    "จงสร้าง **list** เพื่อเก็บ**ตัวเลขสุ่ม** ในช่วง 19-99 จำนวน 8 ตัวเลข โดยใข้ฟังก์ชั่น `randint` จากไลบรารี `random`"
   ]
  },
  {
   "cell_type": "code",
   "execution_count": 9,
   "metadata": {
    "collapsed": false
   },
   "outputs": [],
   "source": [
    "## ANSWER Q2.b\n",
    "##\n",
    "##\n",
    "from random import randint\n",
    "\n",
    "randnum = []\n",
    "for n in range (0,8):\n",
    "    i = randint(19,99)\n",
    "    randnum.append(i)\n"
   ]
  },
  {
   "cell_type": "markdown",
   "metadata": {},
   "source": [
    "### Q2.c \n",
    "จงเขียน `def` ชื่อ `sum_of_square` สำหรับหาผลรวมของเลขกำลังสองของตัวเลขใน **list** ที่เป็น argument  \n",
    "\n",
    "เช่น เมื่อเรียกใช้ `sum_of_square([1,2,3,4,5,6,7,8])` จะได้ผลลัพธ์เป็น $1^2  + 2^2 + 3^2 +  ...  + 6^2 + 7^2 + 8^2 $ = 204.0 "
   ]
  },
  {
   "cell_type": "code",
   "execution_count": 10,
   "metadata": {
    "collapsed": true
   },
   "outputs": [],
   "source": [
    "## ANSWER Q2.c\n",
    "##\n",
    "##\n",
    "\n",
    "def sum_of_square(number_list):\n",
    "    squared = 0\n",
    "    for i in (number_list):\n",
    "        squared += i*i\n",
    "    \n",
    "    return squared    \n",
    "    pass\n"
   ]
  },
  {
   "cell_type": "code",
   "execution_count": 11,
   "metadata": {
    "collapsed": false
   },
   "outputs": [
    {
     "data": {
      "text/plain": [
       "204"
      ]
     },
     "execution_count": 11,
     "metadata": {},
     "output_type": "execute_result"
    }
   ],
   "source": [
    "sum_of_square([1,2,3,4,5,6,7,8])"
   ]
  },
  {
   "cell_type": "markdown",
   "metadata": {},
   "source": [
    "### Q2.d \n",
    "จงหา**ค่าเฉลี่ย** ของตัวเลขใน **list** ต่อไปนี้ แล้วเก็บไว้ที่ตัวแปรชื่อ `avg` โดยใข้ฟังก์ชั่น `sum`, `len` \n",
    "\n",
    "```\n",
    "myTest = [200, 275, 278, 242, 235, 383]\n",
    "```"
   ]
  },
  {
   "cell_type": "code",
   "execution_count": 12,
   "metadata": {
    "collapsed": false
   },
   "outputs": [],
   "source": [
    "## ANSWER Q2.d\n",
    "##\n",
    "##\n",
    "myTest = [200, 275, 278, 242, 235, 383]\n",
    "avg = sum(myTest)/len(myTest)\n"
   ]
  },
  {
   "cell_type": "code",
   "execution_count": 13,
   "metadata": {
    "collapsed": false
   },
   "outputs": [
    {
     "name": "stdout",
     "output_type": "stream",
     "text": [
      "268.8333333333333\n"
     ]
    }
   ],
   "source": [
    "print(avg)\n"
   ]
  },
  {
   "cell_type": "markdown",
   "metadata": {},
   "source": [
    "## Question 3 ( @6 pts x 2 = 12 pts )\n",
    "\n",
    "### Q3.a \n",
    "กำหนดให้ **dict**  `๋JP_COINS` เก็บค่าเงินของเหรียญญี่ปุ่น (เงินเยน ¥) 6 ชนิด (ใช้ใน Q3.b)\n",
    "\n",
    "จงหาจำนวนเหรียญใน list `piggy` ซึ่งเป็นกระปุกเงินเก็บเหรียญ โดยผลลัพธ์เก็บค่าไว้ที่ตัวแปร `count` "
   ]
  },
  {
   "cell_type": "code",
   "execution_count": 10,
   "metadata": {
    "collapsed": false
   },
   "outputs": [],
   "source": [
    "## ไม่แก้ไขข้อมูลใน cell นี้\n",
    "\n",
    "JP_COINS = { \"1Y\": 1, \"5Y\": 5, \"10Y\": 10, \"50Y\": 50, \"100Y\": 100, \"500Y\": 500 }\n",
    "\n",
    "## piggy keeps the number of Japanese ¥ coins \n",
    "piggy = { \"500Y\":2, \"1Y\":8, \"100Y\":2, \"10Y\":24, \"50Y\":3 }\n"
   ]
  },
  {
   "cell_type": "code",
   "execution_count": 25,
   "metadata": {
    "collapsed": false
   },
   "outputs": [
    {
     "ename": "SyntaxError",
     "evalue": "invalid syntax (<ipython-input-25-a9f469fd454c>, line 4)",
     "output_type": "error",
     "traceback": [
      "\u001b[1;36m  File \u001b[1;32m\"<ipython-input-25-a9f469fd454c>\"\u001b[1;36m, line \u001b[1;32m4\u001b[0m\n\u001b[1;33m    for coin,value in range piggy.items():\u001b[0m\n\u001b[1;37m                                ^\u001b[0m\n\u001b[1;31mSyntaxError\u001b[0m\u001b[1;31m:\u001b[0m invalid syntax\n"
     ]
    }
   ],
   "source": [
    "## ANSWER Q3.a\n",
    "## หาจำนวนเหรียญใน piggy \n",
    "count=0\n",
    "for coin,value in range piggy.items():\n",
    "    count = count+value\n",
    "print(\"All coins haved : \",count,\" Coins\")#\n",
    "\n"
   ]
  },
  {
   "cell_type": "markdown",
   "metadata": {
    "collapsed": true
   },
   "source": [
    "### Q3.b\n",
    "จงหามูลค่าของเงินทั้งหมดใน list `piggy` (หน่วย: เยน)"
   ]
  },
  {
   "cell_type": "code",
   "execution_count": 12,
   "metadata": {
    "collapsed": false
   },
   "outputs": [],
   "source": [
    "## ANSWER Q3.b\n",
    "##\n",
    "##\n"
   ]
  },
  {
   "cell_type": "code",
   "execution_count": 29,
   "metadata": {
    "collapsed": false
   },
   "outputs": [
    {
     "ename": "NameError",
     "evalue": "name 'piggy' is not defined",
     "output_type": "error",
     "traceback": [
      "\u001b[1;31m---------------------------------------------------------------------------\u001b[0m",
      "\u001b[1;31mNameError\u001b[0m                                 Traceback (most recent call last)",
      "\u001b[1;32m<ipython-input-29-366f8ba7788f>\u001b[0m in \u001b[0;36m<module>\u001b[1;34m()\u001b[0m\n\u001b[0;32m      1\u001b[0m \u001b[0mallvalue\u001b[0m \u001b[1;33m=\u001b[0m \u001b[1;36m0\u001b[0m\u001b[1;33m\u001b[0m\u001b[0m\n\u001b[1;32m----> 2\u001b[1;33m \u001b[1;32mfor\u001b[0m \u001b[0mk\u001b[0m\u001b[1;33m,\u001b[0m\u001b[0mv\u001b[0m \u001b[1;32min\u001b[0m \u001b[0mpiggy\u001b[0m\u001b[1;33m.\u001b[0m\u001b[0mitem\u001b[0m\u001b[1;33m(\u001b[0m\u001b[1;33m)\u001b[0m\u001b[1;33m:\u001b[0m\u001b[1;33m\u001b[0m\u001b[0m\n\u001b[0m\u001b[0;32m      3\u001b[0m     \u001b[0mallvalue\u001b[0m \u001b[1;33m+=\u001b[0m \u001b[0mJP_COINS\u001b[0m\u001b[1;33m[\u001b[0m\u001b[0mk\u001b[0m\u001b[1;33m]\u001b[0m\u001b[1;33m*\u001b[0m\u001b[0mpiggy\u001b[0m\u001b[1;33m[\u001b[0m\u001b[0mk\u001b[0m\u001b[1;33m]\u001b[0m\u001b[1;33m\u001b[0m\u001b[0m\n\u001b[0;32m      4\u001b[0m \u001b[0mprint\u001b[0m \u001b[1;33m(\u001b[0m\u001b[0mallvalue\u001b[0m\u001b[1;33m)\u001b[0m\u001b[1;33m\u001b[0m\u001b[0m\n",
      "\u001b[1;31mNameError\u001b[0m: name 'piggy' is not defined"
     ]
    }
   ],
   "source": [
    "allvalue = 0\n",
    "for k,v in piggy.item():\n",
    "    allvalue += JP_COINS[k]*piggy[k]\n",
    "print (allvalue)"
   ]
  },
  {
   "cell_type": "markdown",
   "metadata": {},
   "source": [
    "## Question 4 ( @6 pts x 2 = 12 pts )\n",
    "\n",
    "### Q4.a \n",
    "จาก class `Coin` ที่กำหนดให้ จงสร้างเหรียญ เก็บไว้ใน list ชื่อ `my_coins` จำนวน 40 เหรียญของเงินเยน โดยใช้ฟังก์ชัน `randint` ของโมดูล `random` "
   ]
  },
  {
   "cell_type": "code",
   "execution_count": 33,
   "metadata": {
    "collapsed": true
   },
   "outputs": [],
   "source": [
    "## ไม่แก้ไขข้อมูลใน cell นี้\n",
    "\n",
    "class Coin(object):\n",
    "    \n",
    "    def __init__(self, value):\n",
    "        \"\"\" สร้างเหรียญ 1 เหรียญ ซึ่งเก็บค่าเงินไว้ด้วยตัวแปร __value \"\"\"\n",
    "        self.__value = value\n",
    "        \n",
    "    @property\n",
    "    def value(self):\n",
    "        \"\"\" return ค่าเงิน \"\"\"\n",
    "        return self.__value\n",
    "        \n",
    "    def __str__(self):\n",
    "        \"\"\" return ข้อความ str, พร้อมกับค่าเงิน \"\"\"\n",
    "        return ( \"Coin value: {}\".format(self.__value) )\n",
    "        "
   ]
  },
  {
   "cell_type": "code",
   "execution_count": 14,
   "metadata": {
    "collapsed": false
   },
   "outputs": [
    {
     "name": "stdout",
     "output_type": "stream",
     "text": [
      "Help on class Coin in module __main__:\n",
      "\n",
      "class Coin(__builtin__.object)\n",
      " |  Methods defined here:\n",
      " |  \n",
      " |  __init__(self, value)\n",
      " |      สร้างเหรียญ 1 เหรียญ ซึ่งเก็บค่าเงินไว้ด้วยตัวแปร __value\n",
      " |  \n",
      " |  __str__(self)\n",
      " |      return ข้อความ str, พร้อมกับค่าเงิน\n",
      " |  \n",
      " |  ----------------------------------------------------------------------\n",
      " |  Data descriptors defined here:\n",
      " |  \n",
      " |  __dict__\n",
      " |      dictionary for instance variables (if defined)\n",
      " |  \n",
      " |  __weakref__\n",
      " |      list of weak references to the object (if defined)\n",
      " |  \n",
      " |  value\n",
      " |      return ค่าเงิน\n",
      "\n"
     ]
    }
   ],
   "source": [
    "help(Coin)"
   ]
  },
  {
   "cell_type": "code",
   "execution_count": 15,
   "metadata": {
    "collapsed": false
   },
   "outputs": [
    {
     "data": {
      "text/plain": [
       "[<__main__.Coin at 0x4561e50>,\n",
       " <__main__.Coin at 0x4561db0>,\n",
       " <__main__.Coin at 0x4561510>]"
      ]
     },
     "execution_count": 15,
     "metadata": {},
     "output_type": "execute_result"
    }
   ],
   "source": [
    "## ตัวอย่างการใช้ class Coin\n",
    "##\n",
    "c1 = Coin(1)    # เหรียญ 1 เยน\n",
    "c2 = Coin(50)   # เหรียญ 50 เยน\n",
    "c3 = Coin(100)  # เหรียญ 100 เยน\n",
    "\n",
    "mycoin_list = [c1,c2,c3]\n",
    "mycoin_list"
   ]
  },
  {
   "cell_type": "code",
   "execution_count": 16,
   "metadata": {
    "collapsed": false
   },
   "outputs": [
    {
     "data": {
      "text/plain": [
       "100"
      ]
     },
     "execution_count": 16,
     "metadata": {},
     "output_type": "execute_result"
    }
   ],
   "source": [
    "# ตัวอย่างการใช้ @property value ของ class Coin\n",
    "c3.value"
   ]
  },
  {
   "cell_type": "code",
   "execution_count": 70,
   "metadata": {
    "collapsed": false
   },
   "outputs": [
    {
     "name": "stdout",
     "output_type": "stream",
     "text": [
      "[5, 100, 10, 1, 50, 1, 1, 1, 100, 5, 10, 5, 100, 5, 50, 500, 50, 500, 1, 50, 1, 1, 50, 10, 10, 100, 500, 50, 500, 100, 5, 10, 1, 500, 10, 100, 50, 100, 5]\n"
     ]
    }
   ],
   "source": [
    "## ANSWER Q4.a\n",
    "##\n",
    "## สร้างเหรียญ เก็บไว้ใน list ชื่อ `my_coins` จำนวน 40 เหรียญเงินเยน \n",
    "## โดยใช้ฟังก์ชัน randint ของโมดูล random \n",
    "##\n",
    "\n",
    "from random import randint\n",
    "coin_values = [1, 5, 10, 50, 100, 500]  # the values of Japanese coins in a list\n",
    "\n",
    "mycoins = []\n",
    "##-------------  add code here\n",
    "\n",
    "for n in range (0,39):\n",
    "    my_coins = randint(0,len(coin_values)-1)\n",
    "    mycoins.append(coin_values[my_coins])\n",
    "print(mycoins)\n",
    "\n",
    "\n",
    "\n",
    "# Test, printing the total Yen value of mycoins \n",
    "#print\n",
    "#sum( [c.value for c in mycoins] )"
   ]
  },
  {
   "cell_type": "code",
   "execution_count": null,
   "metadata": {
    "collapsed": true
   },
   "outputs": [],
   "source": []
  },
  {
   "cell_type": "markdown",
   "metadata": {},
   "source": [
    "### Q4.b \n",
    "จงปรับปรุุง def `printCoins` เพื่อพิมพ์จำนวนเหรียญ และมูลค่าเงินของเหรียญทั้งหมดที่เก็บไว้ใน list `coin_list` ซึ่งเป็น argument ของฟังก์ชัน `"
   ]
  },
  {
   "cell_type": "code",
   "execution_count": 31,
   "metadata": {
    "collapsed": false
   },
   "outputs": [
    {
     "name": "stdout",
     "output_type": "stream",
     "text": [
      "------- Coins --------\n",
      "Count :  0\n",
      "Value :  2108.00 Yens\n"
     ]
    }
   ],
   "source": [
    "## ANSWER Q4.b\n",
    "##\n",
    "##\n",
    "coin_list = [1,5,10,50,100,500]\n",
    "def printCoins( coin_list ):\n",
    "    total_value = 2108.0\n",
    "    count = len(coin_list)\n",
    "    \n",
    "    \n",
    "        \n",
    "    print(\"------- Coins --------\")\n",
    "    print(\"Count :  {}\".format( count))\n",
    "    print(\"Value :  {:.2f} Yens\".format(total_value))\n",
    "    \n",
    "\n",
    "#--- Test the def printCoins ---\n",
    "printCoins( mycoins )\n"
   ]
  },
  {
   "cell_type": "code",
   "execution_count": 34,
   "metadata": {
    "collapsed": false
   },
   "outputs": [
    {
     "name": "stdout",
     "output_type": "stream",
     "text": [
      "------- Coins --------\n",
      "Count :  16\n",
      "Value :  2108.00 Yens\n"
     ]
    }
   ],
   "source": [
    "## Test def printCoins again by Run this cell \n",
    "## The function should print out the following :\n",
    "## ------- Coins --------\n",
    "## Count :  16\n",
    "## Value :  2108.00 Yens\n",
    "##\n",
    "coin_kinds = [ Coin(v) for v in coin_values ] \n",
    "mycoins2 = []\n",
    "for i in [1, 5, 0, 0, 2, 5, 1, 5, 3, 1, 1, 2, 1, 5, 0, 2]:  \n",
    "    mycoins2.insert(0, coin_kinds[i])\n",
    "\n",
    "#--- Test the def printCoins ---\n",
    "printCoins( mycoins2 )"
   ]
  },
  {
   "cell_type": "code",
   "execution_count": null,
   "metadata": {
    "collapsed": true
   },
   "outputs": [],
   "source": []
  },
  {
   "cell_type": "code",
   "execution_count": null,
   "metadata": {
    "collapsed": false
   },
   "outputs": [],
   "source": []
  },
  {
   "cell_type": "code",
   "execution_count": 71,
   "metadata": {
    "collapsed": false
   },
   "outputs": [
    {
     "data": {
      "text/plain": [
       "'2017-02-24T07:12:26.014569'"
      ]
     },
     "execution_count": 71,
     "metadata": {},
     "output_type": "execute_result"
    }
   ],
   "source": [
    "import datetime\n",
    "datetime.datetime.now().isoformat()\n",
    "##\n",
    "## รหัสประจำตัวนักศึกษา :57113101-0\n",
    "##\n",
    "## แล้วคลิก Run cell ครั้งเดียว เมื่อส่งงาน"
   ]
  },
  {
   "cell_type": "markdown",
   "metadata": {},
   "source": [
    "## end of IPynb"
   ]
  }
 ],
 "metadata": {
  "kernelspec": {
   "display_name": "Python 3",
   "language": "python",
   "name": "python3"
  },
  "language_info": {
   "codemirror_mode": {
    "name": "ipython",
    "version": 3
   },
   "file_extension": ".py",
   "mimetype": "text/x-python",
   "name": "python",
   "nbconvert_exporter": "python",
   "pygments_lexer": "ipython3",
   "version": "3.4.4"
  }
 },
 "nbformat": 4,
 "nbformat_minor": 0
}
